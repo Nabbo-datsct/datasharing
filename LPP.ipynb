{
 "cells": [
  {
   "cell_type": "code",
   "execution_count": 1,
   "metadata": {},
   "outputs": [
    {
     "name": "stdout",
     "output_type": "stream",
     "text": [
      "Collecting pulp\n",
      "  Downloading https://files.pythonhosted.org/packages/c3/22/5743d7b5d69f84fb63a0b4925862522dbf80e82defcd0c447afb694f3fd0/PuLP-2.3-py3-none-any.whl (40.6MB)\n",
      "Collecting amply>=0.1.2 (from pulp)\n",
      "  Downloading https://files.pythonhosted.org/packages/f3/c5/dfa09dd2595a2ab2ab4e6fa7bebef9565812722e1980d04b0edce5032066/amply-0.1.4-py3-none-any.whl\n",
      "Requirement already satisfied: pyparsing in c:\\users\\hp\\anaconda3\\lib\\site-packages (from amply>=0.1.2->pulp) (2.4.2)\n",
      "Requirement already satisfied: docutils>=0.3 in c:\\users\\hp\\anaconda3\\lib\\site-packages (from amply>=0.1.2->pulp) (0.15.2)\n",
      "Installing collected packages: amply, pulp\n",
      "Successfully installed amply-0.1.4 pulp-2.3\n",
      "Note: you may need to restart the kernel to use updated packages.\n"
     ]
    }
   ],
   "source": [
    "pip install pulp"
   ]
  },
  {
   "cell_type": "code",
   "execution_count": 9,
   "metadata": {},
   "outputs": [
    {
     "name": "stdout",
     "output_type": "stream",
     "text": [
      "Problem:\n",
      "MINIMIZE\n",
      "0.71*x + 0.9*y + 0.0\n",
      "SUBJECT TO\n",
      "_C1: 3.99 x + 8.56 y >= 1296000\n",
      "\n",
      "_C2: 4.05 x + 3.42 y >= 1080000\n",
      "\n",
      "_C3: 0.68 x >= 135000\n",
      "\n",
      "_C4: x >= 0\n",
      "\n",
      "_C5: y >= 0\n",
      "\n",
      "VARIABLES\n",
      "x Continuous\n",
      "y Continuous\n",
      "\n",
      "Optimal\n",
      "Value of x: 228923.71 \n",
      "Value of y: 44695.608 \n",
      "Optimal value: 202761.88129999998\n"
     ]
    }
   ],
   "source": [
    "# import the library pulp as p \n",
    "import pulp as p \n",
    "  \n",
    "# Create a LP Minimization problem \n",
    "Lp_prob = p.LpProblem('Problem', p.LpMinimize)  \n",
    "  \n",
    "# Create problem Variables  \n",
    "x = p.LpVariable(\"x\", lowBound = 0)   # Create a variable x >= 0 \n",
    "y = p.LpVariable(\"y\", lowBound = 0)   # Create a variable y >= 0 \n",
    "  \n",
    "# Objective Function \n",
    "Lp_prob += 0.71*x+0.90*y    \n",
    "  \n",
    "# Constraints: \n",
    "\n",
    "Lp_prob += 3.99*x+8.56*y>=1296*1000\n",
    "Lp_prob += 4.05*x+3.42*y>=1080*1000\n",
    "Lp_prob += 0.68*x>=135*1000\n",
    "Lp_prob += x>=0\n",
    "Lp_prob += y>=0\n",
    "  \n",
    "# Display the problem \n",
    "print(Lp_prob) \n",
    "  \n",
    "status = Lp_prob.solve()   # Solver \n",
    "print(p.LpStatus[status])   # The solution status \n",
    "  \n",
    "# Printing the final solution \n",
    "print(\"Value of x:\",p.value(x), \"\\nValue of y:\",p.value(y), \"\\nOptimal value:\",p.value(Lp_prob.objective))   \n"
   ]
  },
  {
   "cell_type": "code",
   "execution_count": 5,
   "metadata": {},
   "outputs": [
    {
     "name": "stdout",
     "output_type": "stream",
     "text": [
      "Problem:\n",
      "MINIMIZE\n",
      "0.71*x + 0.9*y + 0.0\n",
      "SUBJECT TO\n",
      "_C1: 3.99 x + 8.56 y >= 1296000\n",
      "\n",
      "_C2: 4.05 x + 3.42 y >= 1080000\n",
      "\n",
      "_C3: 0.68 x >= 135000\n",
      "\n",
      "_C4: x >= 0\n",
      "\n",
      "_C5: y >= 0\n",
      "\n",
      "VARIABLES\n",
      "x Continuous\n",
      "y Continuous\n",
      "\n"
     ]
    }
   ],
   "source": [
    "\n",
    "# Display the problem \n",
    "print(Lp_prob)"
   ]
  },
  {
   "cell_type": "code",
   "execution_count": 6,
   "metadata": {},
   "outputs": [
    {
     "name": "stdout",
     "output_type": "stream",
     "text": [
      "Optimal\n"
     ]
    }
   ],
   "source": [
    "status = Lp_prob.solve()   # Solver \n",
    "print(p.LpStatus[status])   # The solution status "
   ]
  },
  {
   "cell_type": "code",
   "execution_count": 7,
   "metadata": {},
   "outputs": [
    {
     "name": "stdout",
     "output_type": "stream",
     "text": [
      "228923.71 44695.608 202761.88129999998\n"
     ]
    }
   ],
   "source": [
    "# Printing the final solution \n",
    "print(p.value(x), p.value(y), p.value(Lp_prob.objective))"
   ]
  }
 ],
 "metadata": {
  "kernelspec": {
   "display_name": "Python 3",
   "language": "python",
   "name": "python3"
  },
  "language_info": {
   "codemirror_mode": {
    "name": "ipython",
    "version": 3
   },
   "file_extension": ".py",
   "mimetype": "text/x-python",
   "name": "python",
   "nbconvert_exporter": "python",
   "pygments_lexer": "ipython3",
   "version": "3.7.4"
  }
 },
 "nbformat": 4,
 "nbformat_minor": 2
}
